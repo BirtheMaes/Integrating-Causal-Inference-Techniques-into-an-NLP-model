{
 "cells": [
  {
   "cell_type": "markdown",
   "metadata": {},
   "source": [
    "# BERT MODEL WITH DATA AUGMENTATION"
   ]
  },
  {
   "cell_type": "code",
   "execution_count": null,
   "metadata": {},
   "outputs": [],
   "source": [
    "import os\n",
    "import torch\n",
    "import pandas as pd\n",
    "import nltk\n",
    "import random\n",
    "from torch import nn\n",
    "from torch.utils.data import DataLoader, Dataset\n",
    "from transformers import BertTokenizer, BertModel, AdamW, get_linear_schedule_with_warmup\n",
    "from sklearn.model_selection import train_test_split\n",
    "from sklearn.metrics import accuracy_score, classification_report, matthews_corrcoef\n",
    "from nltk.corpus import wordnet\n",
    "from sklearn.model_selection import StratifiedKFold"
   ]
  },
  {
   "cell_type": "code",
   "execution_count": null,
   "metadata": {},
   "outputs": [],
   "source": [
    "nltk.download('wordnet')\n",
    "nltk.download('averaged_perceptron_tagger')"
   ]
  },
  {
   "cell_type": "markdown",
   "metadata": {},
   "source": [
    "# DATA PREPROCESSING"
   ]
  },
  {
   "cell_type": "code",
   "execution_count": null,
   "metadata": {},
   "outputs": [],
   "source": [
    "# Load the dataset from CSV file\n",
    "df = pd.read_csv(\"Womens Clothing E-Commerce Reviews.csv\")\n",
    "\n",
    "# Drop rows with missing values in the 'Review Text' column\n",
    "df = df.dropna(subset=['Review Text'])\n",
    "\n",
    "# Convert 'Rating' column to binary: 1 for ratings >= 4, 0 otherwise\n",
    "# This is the treatment variable \n",
    "df['Rating'] = df['Rating'].apply(lambda x: 1 if x >= 4 else 0)"
   ]
  },
  {
   "cell_type": "code",
   "execution_count": null,
   "metadata": {},
   "outputs": [],
   "source": [
    "# Select random rows where 'Recommended IND' is 1\n",
    "recommended_1 = df[df['Recommended IND'] == 1].sample(n=1000, random_state=42)\n",
    "\n",
    "# Select random rows where 'Recommended IND' is 0, with replacement\n",
    "recommended_0 = df[df['Recommended IND'] == 0].sample(n=1000, replace=True, random_state=42)\n",
    "\n",
    "# Combine the two DataFrames\n",
    "data_file = pd.concat([recommended_1, recommended_0])"
   ]
  },
  {
   "cell_type": "markdown",
   "metadata": {},
   "source": [
    "# DATA AUGMENTATION "
   ]
  },
  {
   "cell_type": "code",
   "execution_count": null,
   "metadata": {},
   "outputs": [],
   "source": [
    "#Define a function to get synonyms of a word\n",
    "def get_synonyms(word, pos):\n",
    "    #empty set to store the synonyms\n",
    "    synonyms = set()\n",
    "    for syn in wordnet.synsets(word, pos=pos):\n",
    "        for lemma in syn.lemmas():\n",
    "            #Replaces underscores and hyphens with spaces and converts the synonym to lowercase\n",
    "            synonym = lemma.name().replace(\"_\", \" \").replace(\"-\", \" \").lower()\n",
    "            #Removes any non-alphanumeric characters from the synonym\n",
    "            synonym = \"\".join([char for char in synonym if char.isalnum() or char.isspace()])\n",
    "            synonyms.add(synonym)\n",
    "    if word.lower() in synonyms:\n",
    "        # Remove the original word from synonyms\n",
    "        synonyms.remove(word.lower())  \n",
    "    return list(synonyms)"
   ]
  },
  {
   "cell_type": "code",
   "execution_count": null,
   "metadata": {},
   "outputs": [],
   "source": [
    "#Define a function to perform synonym replacement on a sentence\n",
    "def synonym_replacement(sentence):\n",
    "    #tokenizes the input sentence \n",
    "    tokens = nltk.word_tokenize(sentence)\n",
    "    #part-of-speech tagging on the tokens\n",
    "    pos_tags = nltk.pos_tag(tokens)\n",
    "    augmented_tokens = []\n",
    "    for token, pos_tag in zip(tokens, pos_tags):\n",
    "        #If the token is a verb (starts with 'V') or an adjective (starts with 'J') \n",
    "        #and is not in the exclusion list, the function attempts to find synonyms\n",
    "        if (pos_tag[1].startswith('V') or pos_tag[1].startswith('J')) and token.lower() not in ['do', 'have', 'should', 'can', 'will', 'would', 'could']:  # Check if token is a verb or an adjective and not in exclusion list\n",
    "            try:\n",
    "                # Get the first character of the POS tag\n",
    "                pos = pos_tag[1][0].lower() \n",
    "                # Convert POS tag to WordNet POS tag\n",
    "                wordnet_pos = 'v' if pos == 'v' else 'a'\n",
    "                #Generate synonyms for token\n",
    "                synonyms = get_synonyms(token, pos=wordnet_pos)  \n",
    "                if synonyms:\n",
    "                    #pick a random synonym from the list and add it to the set\n",
    "                    augmented_tokens.append(random.choice(synonyms))\n",
    "                else:\n",
    "                    #add the token to the set \n",
    "                    augmented_tokens.append(token)\n",
    "            except KeyError:\n",
    "                # Skip token if POS tag is unknown\n",
    "                augmented_tokens.append(token)  \n",
    "        else:\n",
    "            #add the original token to the set\n",
    "            augmented_tokens.append(token)\n",
    "    #join the sentence back together\n",
    "    augmented_sentence = ' '.join(augmented_tokens)\n",
    "    return augmented_sentence"
   ]
  },
  {
   "cell_type": "code",
   "execution_count": null,
   "metadata": {},
   "outputs": [],
   "source": [
    "#Define the number of augmentations to be performed on each sentence\n",
    "num_augmentations = 3\n",
    "\n",
    "#Perform data augmentation\n",
    "#This list will store the augmented sentences generated through synonym replacement.\n",
    "augmented_texts = []\n",
    "\n",
    "#Create a list to store corresponding labels for augmented sentences\n",
    "augmented_labels = []\n",
    "\n",
    "for i in range(num_augmentations):\n",
    "    #add the text from the dataset to the list augmented_texts\n",
    "    augmented_texts.extend(data_file['Review Text'].apply(synonym_replacement))\n",
    "    # Extend the labels list with corresponding labels for augmented sentences\n",
    "    augmented_labels.extend(data_file['Recommended IND'].values)\n",
    "\n",
    "#Create a new DataFrame with augmented texts and corresponding labels\n",
    "data_aug = pd.DataFrame({'Review Text': augmented_texts, 'Recommended IND': augmented_labels})"
   ]
  },
  {
   "cell_type": "code",
   "execution_count": null,
   "metadata": {},
   "outputs": [],
   "source": [
    "# Concatenate data_file and data_aug along axis 0 (rows)\n",
    "combined_data = pd.concat([data_file[['Review Text', 'Recommended IND']], data_aug], axis=0, ignore_index=True)\n"
   ]
  },
  {
   "cell_type": "markdown",
   "metadata": {},
   "source": [
    "# PREPROCESSING FOR TRAINING"
   ]
  },
  {
   "cell_type": "code",
   "execution_count": null,
   "metadata": {},
   "outputs": [],
   "source": [
    "def load_data(data_file):\n",
    "    # Load the DataFrame from the data_file\n",
    "    df = data_file\n",
    "    \n",
    "    # Extract the 'Review Text' and 'Recommended IND' columns\n",
    "    texts = df['Review Text'].tolist()\n",
    "    labels = df['Recommended IND'].tolist()\n",
    "    \n",
    "    # Return the texts and labels\n",
    "    return texts, labels"
   ]
  },
  {
   "cell_type": "code",
   "execution_count": null,
   "metadata": {},
   "outputs": [],
   "source": [
    "# Loading data from the data file and assigning it to variables 'texts' and 'labels'\n",
    "texts, labels = load_data(combined_data)"
   ]
  },
  {
   "cell_type": "markdown",
   "metadata": {},
   "source": [
    "# CLASS DEFINITIONS FOR BERT "
   ]
  },
  {
   "cell_type": "code",
   "execution_count": null,
   "metadata": {},
   "outputs": [],
   "source": [
    "# Defines the TextClassification dataset \n",
    "class TextClassificationDataset(Dataset):\n",
    "    def __init__(self, texts, labels, tokenizer, max_length):\n",
    "            self.texts = texts\n",
    "            self.labels = labels\n",
    "            self.tokenizer = tokenizer\n",
    "            self.max_length = max_length\n",
    "    def __len__(self):\n",
    "            return len(self.texts)\n",
    "    def __getitem__(self, idx):\n",
    "            text = self.texts[idx]\n",
    "            labels = self.labels[idx]\n",
    "            encoding = self.tokenizer(text, return_tensors='pt', max_length=self.max_length, padding='max_length', truncation=True)\n",
    "            return {'input_ids': encoding['input_ids'].flatten(), 'attention_mask': encoding['attention_mask'].flatten(), 'labels': torch.tensor(labels)}"
   ]
  },
  {
   "cell_type": "code",
   "execution_count": null,
   "metadata": {},
   "outputs": [],
   "source": [
    "# Defines the BERT Classifier \n",
    "class BERTClassifier(nn.Module):\n",
    "    def __init__(self, bert_model_name, num_classes):\n",
    "        super(BERTClassifier, self).__init__()\n",
    "        self.bert = BertModel.from_pretrained(bert_model_name)\n",
    "        self.dropout = nn.Dropout(0.1)\n",
    "        self.fc = nn.Linear(self.bert.config.hidden_size, num_classes)\n",
    "\n",
    "    def forward(self, input_ids, attention_mask):\n",
    "            outputs = self.bert(input_ids=input_ids, attention_mask=attention_mask)\n",
    "            pooled_output = outputs.pooler_output\n",
    "            x = self.dropout(pooled_output)\n",
    "            logits = self.fc(x)\n",
    "            return logits"
   ]
  },
  {
   "cell_type": "markdown",
   "metadata": {},
   "source": [
    "# DEFINE BERT VARIABLES"
   ]
  },
  {
   "cell_type": "code",
   "execution_count": null,
   "metadata": {},
   "outputs": [],
   "source": [
    "# Initialize \n",
    "bert_model_name = 'bert-base-uncased'\n",
    "num_classes = 2\n",
    "max_length = 256\n",
    "batch_size = 16\n",
    "num_epochs = 1\n",
    "learning_rate = 2e-5"
   ]
  },
  {
   "cell_type": "code",
   "execution_count": null,
   "metadata": {},
   "outputs": [],
   "source": [
    "# Define the number of folds for cross-validation\n",
    "num_folds = 5\n",
    "\n",
    "# Initialize cross-validation splitter\n",
    "skf = StratifiedKFold(n_splits=num_folds, shuffle=True, random_state=42)"
   ]
  },
  {
   "cell_type": "code",
   "execution_count": null,
   "metadata": {},
   "outputs": [],
   "source": [
    "#Define tokenizer\n",
    "tokenizer = BertTokenizer.from_pretrained(bert_model_name)"
   ]
  },
  {
   "cell_type": "code",
   "execution_count": null,
   "metadata": {},
   "outputs": [],
   "source": [
    "#Define device and model\n",
    "device = torch.device(\"cuda\" if torch.cuda.is_available() else \"cpu\")\n",
    "model = BERTClassifier(bert_model_name, num_classes).to(device)"
   ]
  },
  {
   "cell_type": "code",
   "execution_count": null,
   "metadata": {},
   "outputs": [],
   "source": [
    "# Lists to store evaluation results\n",
    "accuracy_scores = []\n",
    "classification_reports = []\n",
    "mcc_scores = []"
   ]
  },
  {
   "cell_type": "markdown",
   "metadata": {},
   "source": [
    "# TRAINING AND EVALUATION FUNCTIONS"
   ]
  },
  {
   "cell_type": "code",
   "execution_count": null,
   "metadata": {},
   "outputs": [],
   "source": [
    "# Train the model \n",
    "def train(model, data_loader, optimizer, scheduler, device):\n",
    "    model.train()\n",
    "    for batch in data_loader:\n",
    "        optimizer.zero_grad()\n",
    "        input_ids = batch['input_ids'].to(device)\n",
    "        attention_mask = batch['attention_mask'].to(device)\n",
    "        labels = batch['labels'].to(device)\n",
    "        outputs = model(input_ids=input_ids, attention_mask=attention_mask)\n",
    "        loss = nn.CrossEntropyLoss()(outputs, labels)\n",
    "        loss.backward()\n",
    "        optimizer.step()\n",
    "        scheduler.step()"
   ]
  },
  {
   "cell_type": "code",
   "execution_count": null,
   "metadata": {},
   "outputs": [],
   "source": [
    "# Evaluate the model \n",
    "def evaluate(model, data_loader, device):\n",
    "    model.eval()\n",
    "    predictions = []\n",
    "    actual_labels = []\n",
    "    with torch.no_grad():\n",
    "        for batch in data_loader:\n",
    "            input_ids = batch['input_ids'].to(device)\n",
    "            attention_mask = batch['attention_mask'].to(device)\n",
    "            labels = batch['labels'].to(device)\n",
    "            outputs = model(input_ids=input_ids, attention_mask=attention_mask)\n",
    "            _, preds = torch.max(outputs, dim=1)\n",
    "            predictions.extend(preds.cpu().tolist())\n",
    "            actual_labels.extend(labels.cpu().tolist())\n",
    "    return accuracy_score(actual_labels, predictions), classification_report(actual_labels, predictions)"
   ]
  },
  {
   "cell_type": "code",
   "execution_count": null,
   "metadata": {},
   "outputs": [],
   "source": [
    "def predict(text, model, tokenizer, device, max_length=128):\n",
    "    model.eval()\n",
    "    encoding = tokenizer(text, return_tensors='pt', max_length=max_length, padding='max_length', truncation=True)\n",
    "    input_ids = encoding['input_ids'].to(device)\n",
    "    attention_mask = encoding['attention_mask'].to(device)\n",
    "\n",
    "    with torch.no_grad():\n",
    "            outputs = model(input_ids=input_ids, attention_mask=attention_mask)\n",
    "            _, preds = torch.max(outputs, dim=1)\n",
    "    return preds.item()"
   ]
  },
  {
   "cell_type": "markdown",
   "metadata": {},
   "source": [
    "# RESULTS"
   ]
  },
  {
   "cell_type": "code",
   "execution_count": null,
   "metadata": {},
   "outputs": [],
   "source": [
    "# Iterate over the folds\n",
    "for fold, (train_index, val_index) in enumerate(skf.split(texts, labels)):\n",
    "    print(f\"Fold {fold + 1}/{num_folds}\")\n",
    "\n",
    "    \n",
    "    # Split data into train and validation sets for this fold\n",
    "    train_texts = [texts[i] for i in train_index]\n",
    "    train_labels = [labels[i] for i in train_index]\n",
    "\n",
    "    val_texts= [texts[i] for i in val_index]\n",
    "    val_labels = [labels[i] for i in val_index]\n",
    "\n",
    "    train_dataset = TextClassificationDataset(train_texts, train_labels, tokenizer, max_length)\n",
    "    val_dataset = TextClassificationDataset(val_texts, val_labels, tokenizer, max_length)\n",
    "    train_dataloader = DataLoader(train_dataset, batch_size=batch_size, shuffle=True)\n",
    "    val_dataloader = DataLoader(val_dataset, batch_size=batch_size)\n",
    "    \n",
    "    # Initialize and train model for this fold\n",
    "    model = BERTClassifier(bert_model_name, num_classes).to(device)\n",
    "    optimizer = AdamW(model.parameters(), lr=learning_rate, no_deprecation_warning=True)\n",
    "    total_steps = len(train_dataloader) * num_epochs\n",
    "    scheduler = get_linear_schedule_with_warmup(optimizer, num_warmup_steps=0, num_training_steps=total_steps)\n",
    "    for epoch in range(num_epochs):\n",
    "        train(model, train_dataloader, optimizer, scheduler, device)\n",
    "\n",
    "    #Iterate over the validation set and generate predictions\n",
    "    predicted_labels = []\n",
    "    for text in val_texts:\n",
    "        pred = predict(text, model, tokenizer, device)  # Use your predict function here\n",
    "        predicted_labels.append(pred)\n",
    "        \n",
    "    # Calculate MCC\n",
    "    mcc = matthews_corrcoef(val_labels, predicted_labels)\n",
    "    mcc_scores.append(mcc)\n",
    "\n",
    "    # Evaluate model for this fold\n",
    "    accuracy, report = evaluate(model, val_dataloader, device)\n",
    "    accuracy_scores.append(accuracy)\n",
    "    classification_reports.append(report)\n",
    "\n",
    "    print(f\"Validation Accuracy: {accuracy:.4f}\")\n",
    "    print(report)\n",
    "    print(f\"MCC: {mcc:.4f}\")\n"
   ]
  }
 ],
 "metadata": {
  "kernelspec": {
   "display_name": "Python 3",
   "language": "python",
   "name": "python3"
  },
  "language_info": {
   "codemirror_mode": {
    "name": "ipython",
    "version": 3
   },
   "file_extension": ".py",
   "mimetype": "text/x-python",
   "name": "python",
   "nbconvert_exporter": "python",
   "pygments_lexer": "ipython3",
   "version": "3.8.5"
  }
 },
 "nbformat": 4,
 "nbformat_minor": 4
}
